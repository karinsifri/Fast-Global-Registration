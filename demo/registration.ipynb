{
 "cells": [
  {
   "metadata": {},
   "cell_type": "markdown",
   "source": [
    "# Full Registration\n",
    "This notebook provides a comparison to the Fast-Global-Registration algorithm as it is implemented in the package open3d.\n",
    "\n",
    "<b>NOTE</b>: The visualizations open a new window in your computer, in order to continue running, the visualization window have to be closed."
   ],
   "id": "582b666cb7661b98"
  },
  {
   "metadata": {},
   "cell_type": "markdown",
   "source": [
    "## Setup\n",
    "Run the following cells to set up the notebook"
   ],
   "id": "43ba8284b3a88010"
  },
  {
   "cell_type": "code",
   "id": "f62b07af4e172969",
   "metadata": {
    "collapsed": true,
    "ExecuteTime": {
     "end_time": "2024-09-24T13:36:09.674917Z",
     "start_time": "2024-09-24T13:36:07.830331Z"
    }
   },
   "source": [
    "import os\n",
    "import sys\n",
    "from copy import deepcopy\n",
    "\n",
    "import numpy as np\n",
    "import open3d as o3d\n",
    "from ipywidgets import widgets\n",
    "\n",
    "sys.path.append(\"..\")\n",
    "from demo.utils.fgr_o3d import run_fgr\n",
    "from src.logic.normalization import normalize_point_clouds\n",
    "from src.logic.registration import fast_global_registration\n",
    "from demo.utils.visualizers import draw_registration_result\n",
    "sys.path.pop()"
   ],
   "outputs": [
    {
     "name": "stdout",
     "output_type": "stream",
     "text": [
      "Jupyter environment detected. Enabling Open3D WebVisualizer.\n",
      "[Open3D INFO] WebRTC GUI backend enabled.\n",
      "[Open3D INFO] WebRTCWindowSystem: HTTP handshake server disabled.\n"
     ]
    },
    {
     "data": {
      "text/plain": [
       "'..'"
      ]
     },
     "execution_count": 1,
     "metadata": {},
     "output_type": "execute_result"
    }
   ],
   "execution_count": 1
  },
  {
   "metadata": {},
   "cell_type": "markdown",
   "source": [
    "### Choose an Example\n",
    "Before running the next cells, you can choose any of the examples provided in the dataset folder using the following dropdown selector."
   ],
   "id": "fb0b2467540e65e4"
  },
  {
   "metadata": {
    "ExecuteTime": {
     "end_time": "2024-09-24T13:36:09.706995Z",
     "start_time": "2024-09-24T13:36:09.680158Z"
    }
   },
   "cell_type": "code",
   "source": [
    "dropdown = widgets.Dropdown(\n",
    "    options=os.listdir('../dataset'),\n",
    "    description='Example:',\n",
    "    value=\"pairwise_no_noise_01_rot_05\",\n",
    "    layout={'width': 'max-content'},\n",
    "    disabled=False,\n",
    ")\n",
    "dropdown"
   ],
   "id": "initial_id",
   "outputs": [
    {
     "data": {
      "text/plain": [
       "Dropdown(description='Example:', index=50, layout=Layout(width='max-content'), options=('pairwise_noise_xyz_le…"
      ],
      "application/vnd.jupyter.widget-view+json": {
       "version_major": 2,
       "version_minor": 0,
       "model_id": "dfc0a785ddf94b3bafc8626bc0560dbe"
      }
     },
     "execution_count": 2,
     "metadata": {},
     "output_type": "execute_result"
    }
   ],
   "execution_count": 2
  },
  {
   "metadata": {
    "ExecuteTime": {
     "end_time": "2024-09-24T13:36:09.753943Z",
     "start_time": "2024-09-24T13:36:09.708817Z"
    }
   },
   "cell_type": "code",
   "source": [
    "pcd1 = o3d.io.read_point_cloud(f\"../dataset/{dropdown.value}/Depth_0000.ply\")\n",
    "pcd2 = o3d.io.read_point_cloud(f\"../dataset/{dropdown.value}/Depth_0001.ply\")"
   ],
   "id": "ce892b481e827226",
   "outputs": [],
   "execution_count": 3
  },
  {
   "metadata": {},
   "cell_type": "markdown",
   "source": "## Initial Alignment",
   "id": "d5cd17a05ac2af0b"
  },
  {
   "metadata": {
    "ExecuteTime": {
     "end_time": "2024-09-24T13:36:11.794275Z",
     "start_time": "2024-09-24T13:36:09.755868Z"
    }
   },
   "cell_type": "code",
   "source": "draw_registration_result(source=pcd1, target=pcd2, transformation=np.identity(4))",
   "id": "99511c3ff8095448",
   "outputs": [],
   "execution_count": 4
  },
  {
   "metadata": {},
   "cell_type": "markdown",
   "source": "## Results from the open3d Implementation",
   "id": "d7c018a8509ef77d"
  },
  {
   "metadata": {
    "ExecuteTime": {
     "end_time": "2024-09-24T13:36:11.934059Z",
     "start_time": "2024-09-24T13:36:11.796182Z"
    }
   },
   "cell_type": "code",
   "source": "o3d_result = run_fgr(pcd1, pcd2)",
   "id": "f74dccf8caa06b44",
   "outputs": [],
   "execution_count": 5
  },
  {
   "metadata": {
    "ExecuteTime": {
     "end_time": "2024-09-24T13:36:12.804554Z",
     "start_time": "2024-09-24T13:36:11.935570Z"
    }
   },
   "cell_type": "code",
   "source": "draw_registration_result(source=pcd1, target=pcd2, transformation=o3d_result)",
   "id": "6d8a29b5a28f0c8e",
   "outputs": [],
   "execution_count": 6
  },
  {
   "metadata": {},
   "cell_type": "markdown",
   "source": [
    "## Result from Our Implementation\n",
    "Notice that our implementation is slower since it is written in python, which is known to be slower than c++. The code uses loops only in the iterative optimization, but it uses the least-squares implementation from scipy, which is also known to be rather slow."
   ],
   "id": "2da391ba7fddd410"
  },
  {
   "metadata": {
    "ExecuteTime": {
     "end_time": "2024-09-24T13:36:14.251736Z",
     "start_time": "2024-09-24T13:36:12.805561Z"
    }
   },
   "cell_type": "code",
   "source": [
    "pcd_p, pcd_q = normalize_point_clouds(deepcopy(pcd1), deepcopy(pcd2))\n",
    "our_result = fast_global_registration(pcd_p, pcd_q)"
   ],
   "id": "bd4db76c6a4a80a9",
   "outputs": [],
   "execution_count": 7
  },
  {
   "metadata": {
    "ExecuteTime": {
     "end_time": "2024-09-24T13:37:44.378370Z",
     "start_time": "2024-09-24T13:36:14.253226Z"
    }
   },
   "cell_type": "code",
   "source": "draw_registration_result(source=pcd_q, target=pcd_p, transformation=our_result)",
   "id": "9083c9480b5e09e",
   "outputs": [],
   "execution_count": 8
  }
 ],
 "metadata": {
  "kernelspec": {
   "display_name": "Python 3",
   "language": "python",
   "name": "python3"
  },
  "language_info": {
   "codemirror_mode": {
    "name": "ipython",
    "version": 2
   },
   "file_extension": ".py",
   "mimetype": "text/x-python",
   "name": "python",
   "nbconvert_exporter": "python",
   "pygments_lexer": "ipython2",
   "version": "2.7.6"
  }
 },
 "nbformat": 4,
 "nbformat_minor": 5
}
