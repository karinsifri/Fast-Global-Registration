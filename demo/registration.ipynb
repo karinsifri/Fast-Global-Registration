{
 "cells": [
  {
   "cell_type": "markdown",
   "id": "582b666cb7661b98",
   "metadata": {},
   "source": [
    "# Full Registration\n",
    "This notebook provides a comparison to the Fast-Global-Registration algorithm as it is implemented in the package open3d.\n",
    "\n",
    "<b>NOTE</b>: The visualizations open a new window in your computer, in order to continue running, the visualization window have to be closed."
   ]
  },
  {
   "cell_type": "markdown",
   "id": "43ba8284b3a88010",
   "metadata": {},
   "source": [
    "## Setup\n",
    "Run the following cells to set up the notebook"
   ]
  },
  {
   "cell_type": "code",
   "execution_count": 1,
   "id": "f62b07af4e172969",
   "metadata": {
    "ExecuteTime": {
     "end_time": "2024-09-24T13:36:09.674917Z",
     "start_time": "2024-09-24T13:36:07.830331Z"
    }
   },
   "outputs": [
    {
     "name": "stdout",
     "output_type": "stream",
     "text": [
      "Jupyter environment detected. Enabling Open3D WebVisualizer.\n",
      "[Open3D INFO] WebRTC GUI backend enabled.\n",
      "[Open3D INFO] WebRTCWindowSystem: HTTP handshake server disabled.\n"
     ]
    },
    {
     "data": {
      "text/plain": [
       "'..'"
      ]
     },
     "execution_count": 1,
     "metadata": {},
     "output_type": "execute_result"
    }
   ],
   "source": [
    "import os\n",
    "import sys\n",
    "from copy import deepcopy\n",
    "\n",
    "import numpy as np\n",
    "import open3d as o3d\n",
    "from ipywidgets import widgets\n",
    "\n",
    "sys.path.append(\"..\")\n",
    "from demo.utils.fgr_o3d import run_fgr\n",
    "from src.logic.normalization import normalize_point_clouds\n",
    "from src.logic.registration import fast_global_registration\n",
    "from demo.utils.visualizers import draw_registration_result\n",
    "sys.path.pop()"
   ]
  },
  {
   "cell_type": "markdown",
   "id": "fb0b2467540e65e4",
   "metadata": {},
   "source": [
    "### Choose an Example\n",
    "Before running the next cells, you can choose any of the examples provided in the dataset folder using the following dropdown selector."
   ]
  },
  {
   "cell_type": "code",
   "execution_count": 2,
   "id": "initial_id",
   "metadata": {
    "ExecuteTime": {
     "end_time": "2024-09-24T13:36:09.706995Z",
     "start_time": "2024-09-24T13:36:09.680158Z"
    }
   },
   "outputs": [
    {
     "data": {
      "application/vnd.jupyter.widget-view+json": {
       "model_id": "7821af3f275b45f5bafaaf65db96b425",
       "version_major": 2,
       "version_minor": 0
      },
      "text/plain": [
       "Dropdown(description='Example:', index=51, layout=Layout(width='max-content'), options=('kitchen', 'pairwise_n…"
      ]
     },
     "execution_count": 2,
     "metadata": {},
     "output_type": "execute_result"
    }
   ],
   "source": [
    "dropdown = widgets.Dropdown(\n",
    "    options=os.listdir('../dataset'),\n",
    "    description='Example:',\n",
    "    value=\"pairwise_no_noise_01_rot_05\",\n",
    "    layout={'width': 'max-content'},\n",
    "    disabled=False,\n",
    ")\n",
    "dropdown"
   ]
  },
  {
   "cell_type": "code",
   "execution_count": 3,
   "id": "ce892b481e827226",
   "metadata": {
    "ExecuteTime": {
     "end_time": "2024-09-24T13:48:00.723195Z",
     "start_time": "2024-09-24T13:48:00.679135Z"
    }
   },
   "outputs": [],
   "source": [
    "pcd1 = o3d.io.read_point_cloud(f\"../dataset/{dropdown.value}/Depth_0000.ply\")\n",
    "pcd2 = o3d.io.read_point_cloud(f\"../dataset/{dropdown.value}/Depth_0001.ply\")"
   ]
  },
  {
   "cell_type": "code",
   "execution_count": 4,
   "id": "96cfd713-887f-4013-bbea-85abfa6586a7",
   "metadata": {},
   "outputs": [],
   "source": [
    "if not pcd1.normals or not pcd2.normals:\n",
    "    pcd1.estimate_normals(search_param=o3d.geometry.KDTreeSearchParamHybrid(radius=0.1, max_nn=30))\n",
    "    pcd2.estimate_normals(search_param=o3d.geometry.KDTreeSearchParamHybrid(radius=0.1, max_nn=30))"
   ]
  },
  {
   "cell_type": "markdown",
   "id": "d5cd17a05ac2af0b",
   "metadata": {},
   "source": [
    "## Initial Alignment"
   ]
  },
  {
   "cell_type": "code",
   "execution_count": 5,
   "id": "99511c3ff8095448",
   "metadata": {
    "ExecuteTime": {
     "end_time": "2024-09-24T13:48:09.059086Z",
     "start_time": "2024-09-24T13:48:06.283630Z"
    }
   },
   "outputs": [],
   "source": [
    "draw_registration_result(source=pcd1, target=pcd2, transformation=np.identity(4))"
   ]
  },
  {
   "cell_type": "markdown",
   "id": "d7c018a8509ef77d",
   "metadata": {},
   "source": [
    "## Results from the open3d Implementation"
   ]
  },
  {
   "cell_type": "code",
   "execution_count": 6,
   "id": "f74dccf8caa06b44",
   "metadata": {
    "ExecuteTime": {
     "end_time": "2024-09-24T13:36:11.934059Z",
     "start_time": "2024-09-24T13:36:11.796182Z"
    }
   },
   "outputs": [],
   "source": [
    "o3d_result = run_fgr(pcd1, pcd2)"
   ]
  },
  {
   "cell_type": "code",
   "execution_count": 7,
   "id": "6d8a29b5a28f0c8e",
   "metadata": {
    "ExecuteTime": {
     "end_time": "2024-09-24T13:36:12.804554Z",
     "start_time": "2024-09-24T13:36:11.935570Z"
    }
   },
   "outputs": [],
   "source": [
    "draw_registration_result(source=pcd1, target=pcd2, transformation=o3d_result)"
   ]
  },
  {
   "cell_type": "markdown",
   "id": "2da391ba7fddd410",
   "metadata": {},
   "source": [
    "## Result from Our Implementation\n",
    "Notice that our implementation is slower since it is written in python, which is known to be slower than c++. The code uses loops only in the iterative optimization, but it uses the least-squares implementation from scipy, which is also known to be rather slow."
   ]
  },
  {
   "cell_type": "code",
   "execution_count": null,
   "id": "bd4db76c6a4a80a9",
   "metadata": {
    "ExecuteTime": {
     "end_time": "2024-09-24T13:48:15.172712Z",
     "start_time": "2024-09-24T13:48:11.538793Z"
    }
   },
   "outputs": [],
   "source": [
    "pcd_p, pcd_q = normalize_point_clouds(deepcopy(pcd1), deepcopy(pcd2))\n",
    "our_result = fast_global_registration(pcd_p, pcd_q)"
   ]
  },
  {
   "cell_type": "code",
   "execution_count": null,
   "id": "9083c9480b5e09e",
   "metadata": {
    "ExecuteTime": {
     "end_time": "2024-09-24T13:48:18.627886Z",
     "start_time": "2024-09-24T13:48:15.173633Z"
    }
   },
   "outputs": [],
   "source": [
    "draw_registration_result(source=pcd_q, target=pcd_p, transformation=our_result)"
   ]
  },
  {
   "cell_type": "code",
   "execution_count": null,
   "id": "0550ce61-3ce8-4e11-b217-1875263bf624",
   "metadata": {},
   "outputs": [],
   "source": []
  }
 ],
 "metadata": {
  "kernelspec": {
   "display_name": "Python 3 (ipykernel)",
   "language": "python",
   "name": "python3"
  },
  "language_info": {
   "codemirror_mode": {
    "name": "ipython",
    "version": 3
   },
   "file_extension": ".py",
   "mimetype": "text/x-python",
   "name": "python",
   "nbconvert_exporter": "python",
   "pygments_lexer": "ipython3",
   "version": "3.10.0"
  }
 },
 "nbformat": 4,
 "nbformat_minor": 5
}
