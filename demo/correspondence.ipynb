{
 "cells": [
  {
   "cell_type": "markdown",
   "id": "f0b2b9c914f700da",
   "metadata": {},
   "source": [
    "# Point Correspondence\n",
    "The correspondence generation process is a crucial step in the Fast-Global-Registration algorithm, where the goal is to establish reliable matches between two sets of points from partially overlapping surfaces. This process enables the alignment of these surfaces by identifying pairs of points that likely correspond to the same location in both point sets. Given the potential presence of noise, partial overlaps, and outliers in real-world data, the correspondence generation process involves multiple stages to filter and refine the matches. These stages include collecting initial matches, verifying mutual agreement through a reciprocity test, and ensuring geometric consistency using a tuple test. By progressively refining the set of correspondences, we can improve the accuracy and robustness of the overall registration process.\n",
    "This notebook includes a visualization and explanation of the correspondences generation step in the Fast-Global-Registration algorithm.\n",
    "\n",
    "<b>NOTE</b>: The visualizations open a new window in your computer, in order to continue running, the visualization window have to be closed. "
   ]
  },
  {
   "cell_type": "markdown",
   "id": "a8a394cfa0a04eaa",
   "metadata": {},
   "source": [
    "## Setup\n",
    "Run the following cells to set up the notebook"
   ]
  },
  {
   "cell_type": "code",
   "execution_count": 1,
   "id": "initial_id",
   "metadata": {
    "ExecuteTime": {
     "end_time": "2024-09-24T10:24:45.515820Z",
     "start_time": "2024-09-24T10:24:43.563236Z"
    }
   },
   "outputs": [
    {
     "name": "stdout",
     "output_type": "stream",
     "text": [
      "Jupyter environment detected. Enabling Open3D WebVisualizer.\n",
      "[Open3D INFO] WebRTC GUI backend enabled.\n",
      "[Open3D INFO] WebRTCWindowSystem: HTTP handshake server disabled.\n"
     ]
    },
    {
     "data": {
      "text/plain": [
       "'..'"
      ]
     },
     "execution_count": 1,
     "metadata": {},
     "output_type": "execute_result"
    }
   ],
   "source": [
    "import os\n",
    "import sys\n",
    "\n",
    "import open3d as o3d\n",
    "from ipywidgets import widgets\n",
    "\n",
    "sys.path.append(\"..\")\n",
    "from demo.utils.visualizers import visualize_correspondences\n",
    "from src.logic.correspondence import collect_all_correspondences, reciprocity_test, tuple_test\n",
    "sys.path.pop()"
   ]
  },
  {
   "cell_type": "markdown",
   "id": "fa6e97b0bf716d3c",
   "metadata": {},
   "source": [
    "### Choose an Example\n",
    "Before running the next cells, you can choose any of the examples provided in the dataset folder using the following dropdown selector."
   ]
  },
  {
   "cell_type": "code",
   "execution_count": 2,
   "id": "8ef0c847186f2402",
   "metadata": {
    "ExecuteTime": {
     "end_time": "2024-09-24T10:24:45.542623Z",
     "start_time": "2024-09-24T10:24:45.517384Z"
    }
   },
   "outputs": [
    {
     "data": {
      "application/vnd.jupyter.widget-view+json": {
       "model_id": "6b39c147f3564008bbf3ff26fe921aa8",
       "version_major": 2,
       "version_minor": 0
      },
      "text/plain": [
       "Dropdown(description='Example:', index=50, layout=Layout(width='max-content'), options=('pairwise_noise_xyz_le…"
      ]
     },
     "execution_count": 2,
     "metadata": {},
     "output_type": "execute_result"
    }
   ],
   "source": [
    "dropdown = widgets.Dropdown(\n",
    "    options=os.listdir('../dataset'),\n",
    "    description='Example:',\n",
    "    value=\"pairwise_no_noise_01_rot_05\",\n",
    "    layout={'width': 'max-content'},\n",
    "    disabled=False,\n",
    ")\n",
    "dropdown"
   ]
  },
  {
   "cell_type": "markdown",
   "id": "7d8f9add53535c39",
   "metadata": {},
   "source": [
    "## Original Point Clouds\n",
    "Run the following cells to view the original point clouds (the first point cloud is displayed in red while the second is displayed in blue)"
   ]
  },
  {
   "cell_type": "code",
   "execution_count": 29,
   "id": "4b17e9cd4da06109",
   "metadata": {
    "ExecuteTime": {
     "end_time": "2024-09-24T10:24:45.590066Z",
     "start_time": "2024-09-24T10:24:45.542623Z"
    }
   },
   "outputs": [],
   "source": [
    "pcd1 = o3d.io.read_point_cloud(f\"../dataset/{dropdown.value}/Depth_0000.ply\")\n",
    "pcd2 = o3d.io.read_point_cloud(f\"../dataset/{dropdown.value}/Depth_0001.ply\")"
   ]
  },
  {
   "cell_type": "code",
   "execution_count": 31,
   "id": "c1300001-02cd-42c7-b047-a590a20c9f09",
   "metadata": {
    "ExecuteTime": {
     "end_time": "2024-09-24T10:24:45.590066Z",
     "start_time": "2024-09-24T10:24:45.542623Z"
    }
   },
   "outputs": [],
   "source": [
    "if not pcd1.normals or not pcd2.normals:\n",
    "    pcd1.estimate_normals(search_param=o3d.geometry.KDTreeSearchParamHybrid(radius=0.1, max_nn=30))\n",
    "    pcd2.estimate_normals(search_param=o3d.geometry.KDTreeSearchParamHybrid(radius=0.1, max_nn=30))"
   ]
  },
  {
   "cell_type": "code",
   "execution_count": 30,
   "id": "b4d4a398d85daa64",
   "metadata": {
    "ExecuteTime": {
     "end_time": "2024-09-24T10:24:54.397613Z",
     "start_time": "2024-09-24T10:24:45.592067Z"
    }
   },
   "outputs": [],
   "source": [
    "pcd1.paint_uniform_color([1, 0, 0])\n",
    "pcd2.paint_uniform_color([0, 0, 1])\n",
    "o3d.visualization.draw_geometries([pcd1, pcd2], window_name=\"Original Point Clouds\")"
   ]
  },
  {
   "cell_type": "markdown",
   "id": "2e15a3e917a59da6",
   "metadata": {},
   "source": [
    "## 1. Collecting All Matches\n",
    "The first step in the point correspondence search is to collect candidate matches between two point sets $P$ and $Q$. For each point set, we first extract features that describe the local geometric properties around each point. In Fast-Global-Registration the Fast Point Feature Histogram (FPFH), are used to represent points in a high-dimensional feature space. \n",
    "\n",
    "Once features are extracted, we perform nearest neighbor queries in this feature space rather than directly in the original 3D space. This approach helps to find points that have similar local geometries, making the matching process more robust to noise and partial overlaps. For each point $p$ in $P$, we find its nearest neighbor in $Q$'s feature space, and vice versa. This process establishes a set of initial correspondences $K_I$ between the two point sets. These initial matches may contain a high number of outliers, so further filtering is required.\n"
   ]
  },
  {
   "cell_type": "code",
   "execution_count": 23,
   "id": "af26db607e254719",
   "metadata": {
    "ExecuteTime": {
     "end_time": "2024-09-24T10:24:59.557749Z",
     "start_time": "2024-09-24T10:24:54.397613Z"
    }
   },
   "outputs": [
    {
     "name": "stdout",
     "output_type": "stream",
     "text": [
      "Found 31525 matches\n"
     ]
    }
   ],
   "source": [
    "kappa1 = collect_all_correspondences(pcd1, pcd2)\n",
    "print(f\"Found {len(kappa1)} matches\")"
   ]
  },
  {
   "cell_type": "code",
   "execution_count": 24,
   "id": "d308d4a1d31a1f94",
   "metadata": {
    "ExecuteTime": {
     "end_time": "2024-09-24T10:25:04.037458Z",
     "start_time": "2024-09-24T10:24:59.557749Z"
    }
   },
   "outputs": [],
   "source": [
    "visualize_correspondences(pcd1, pcd2, kappa1, \"All Correspondences\")"
   ]
  },
  {
   "cell_type": "markdown",
   "id": "38aba75e5cb993bb",
   "metadata": {},
   "source": [
    "## 2. Reciprocity Test\n",
    "After collecting all matches, we perform a **reciprocity test** to filter out unreliable correspondences. A correspondence pair $(p, q)$ is kept only if $p$ is the nearest neighbor of $q$ in $P$ and $q$ is the nearest neighbor of $p$ in $Q$. This step ensures that both points mutually agree on being the best match, resulting in a refined set of correspondences $K_{II}$."
   ]
  },
  {
   "cell_type": "code",
   "execution_count": 25,
   "id": "9403eb54b78e2f8f",
   "metadata": {
    "ExecuteTime": {
     "end_time": "2024-09-24T10:25:04.072719Z",
     "start_time": "2024-09-24T10:25:04.037458Z"
    }
   },
   "outputs": [
    {
     "name": "stdout",
     "output_type": "stream",
     "text": [
      "There are 4298 after the reciprocity test\n"
     ]
    }
   ],
   "source": [
    "kappa2 = reciprocity_test(kappa1)\n",
    "print(f\"There are {len(kappa2)} after the reciprocity test\")"
   ]
  },
  {
   "cell_type": "code",
   "execution_count": 26,
   "id": "ed684414b565afb1",
   "metadata": {
    "ExecuteTime": {
     "end_time": "2024-09-24T10:25:08.642229Z",
     "start_time": "2024-09-24T10:25:04.072719Z"
    }
   },
   "outputs": [],
   "source": [
    "visualize_correspondences(pcd1, pcd2, kappa2, \"After Reciprocity Test\")"
   ]
  },
  {
   "cell_type": "markdown",
   "id": "30a2795c3cc1aa71",
   "metadata": {},
   "source": [
    "## 3. Tuple Test\n",
    "The **tuple test** is the next step to further filter the correspondences. This test checks for geometric consistency among sets of correspondence pairs. We randomly select 3 pairs of correspondences $(p_1, q_1), (p_2, q_2), (p_3, q_3)$ from $K_{II}$ and verify that the ratios of distances between corresponding points in each pair are consistent. Specifically, the condition $\\tau < \\frac{\\|p_i - p_j\\|}{\\|q_i - q_j\\|} < \\frac{1}{\\tau}$ for $\\tau = 0.9$ must be satisfied for each combination $i \\neq j$. This test retains only the geometrically compatible correspondences, forming the final set $K_{III}$."
   ]
  },
  {
   "cell_type": "code",
   "execution_count": 27,
   "id": "548100039c8680e3",
   "metadata": {
    "ExecuteTime": {
     "end_time": "2024-09-24T10:25:08.759676Z",
     "start_time": "2024-09-24T10:25:08.642229Z"
    }
   },
   "outputs": [
    {
     "name": "stdout",
     "output_type": "stream",
     "text": [
      "There are 1923 after the tuple test\n"
     ]
    }
   ],
   "source": [
    "kappa3 = tuple_test(kappa2, pcd1, pcd2)\n",
    "print(f\"There are {len(kappa3)} after the tuple test\")"
   ]
  },
  {
   "cell_type": "code",
   "execution_count": 28,
   "id": "10cdb84dfc99d43f",
   "metadata": {
    "ExecuteTime": {
     "end_time": "2024-09-24T10:25:18.390326Z",
     "start_time": "2024-09-24T10:25:08.762674Z"
    }
   },
   "outputs": [],
   "source": [
    "visualize_correspondences(pcd1, pcd2, kappa3, \"After Tuple Test\")"
   ]
  },
  {
   "cell_type": "code",
   "execution_count": null,
   "id": "1f795497ffd3d561",
   "metadata": {
    "ExecuteTime": {
     "end_time": "2024-09-24T10:25:18.406436Z",
     "start_time": "2024-09-24T10:25:18.391332Z"
    }
   },
   "outputs": [],
   "source": []
  }
 ],
 "metadata": {
  "kernelspec": {
   "display_name": "Python 3 (ipykernel)",
   "language": "python",
   "name": "python3"
  },
  "language_info": {
   "codemirror_mode": {
    "name": "ipython",
    "version": 3
   },
   "file_extension": ".py",
   "mimetype": "text/x-python",
   "name": "python",
   "nbconvert_exporter": "python",
   "pygments_lexer": "ipython3",
   "version": "3.10.0"
  }
 },
 "nbformat": 4,
 "nbformat_minor": 5
}
