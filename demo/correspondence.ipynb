{
 "cells": [
  {
   "metadata": {},
   "cell_type": "markdown",
   "source": [
    "# Point Correspondence\n",
    "This notebook includes a visualization and explanation of the correspondences generation step on the Fast-Global-Registration algorithm.\n",
    "\n",
    "<b>NOTE</b>: The visualizations open a new window in your computer, in order to continue running, the visualization window have to be closed. "
   ],
   "id": "f0b2b9c914f700da"
  },
  {
   "metadata": {},
   "cell_type": "markdown",
   "source": [
    "## Setup\n",
    "Run the following cells to set up the notebook"
   ],
   "id": "a8a394cfa0a04eaa"
  },
  {
   "cell_type": "code",
   "id": "initial_id",
   "metadata": {
    "collapsed": true,
    "ExecuteTime": {
     "end_time": "2024-09-24T08:57:56.737545Z",
     "start_time": "2024-09-24T08:57:56.724086Z"
    }
   },
   "source": [
    "import os\n",
    "import sys\n",
    "\n",
    "import open3d as o3d\n",
    "from ipywidgets import widgets\n",
    "\n",
    "sys.path.append(\"..\")\n",
    "from demo.utils.visualizers import visualize_correspondences\n",
    "from src.logic.correspondence import collect_all_correspondences, reciprocity_test, tuple_test\n",
    "sys.path.pop()"
   ],
   "outputs": [
    {
     "data": {
      "text/plain": [
       "'..'"
      ]
     },
     "execution_count": 34,
     "metadata": {},
     "output_type": "execute_result"
    }
   ],
   "execution_count": 34
  },
  {
   "metadata": {},
   "cell_type": "markdown",
   "source": [
    "### Choose an Example\n",
    "Before running the next cells, you can choose any of the examples provided in the dataset folder using the following dropdown selector."
   ],
   "id": "fa6e97b0bf716d3c"
  },
  {
   "metadata": {
    "ExecuteTime": {
     "end_time": "2024-09-24T09:13:16.863743Z",
     "start_time": "2024-09-24T09:13:16.847712Z"
    }
   },
   "cell_type": "code",
   "source": [
    "dropdown = widgets.Dropdown(\n",
    "    options=os.listdir('../dataset'),\n",
    "    description='Example:',\n",
    "    value=\"pairwise_no_noise_01_rot_05\",\n",
    "    layout={'width': 'max-content'},\n",
    "    disabled=False,\n",
    ")\n",
    "dropdown"
   ],
   "id": "8ef0c847186f2402",
   "outputs": [
    {
     "data": {
      "text/plain": [
       "Dropdown(description='Example:', index=50, layout=Layout(width='max-content'), options=('pairwise_noise_xyz_le…"
      ],
      "application/vnd.jupyter.widget-view+json": {
       "version_major": 2,
       "version_minor": 0,
       "model_id": "d3d807fe4f87434d984fd1835c484a7e"
      }
     },
     "execution_count": 39,
     "metadata": {},
     "output_type": "execute_result"
    }
   ],
   "execution_count": 39
  },
  {
   "metadata": {
    "ExecuteTime": {
     "end_time": "2024-09-24T09:13:18.645962Z",
     "start_time": "2024-09-24T09:13:18.602955Z"
    }
   },
   "cell_type": "code",
   "source": [
    "pcd1 = o3d.io.read_point_cloud(f\"../dataset/{dropdown.value}/Depth_0000.ply\")\n",
    "pcd2 = o3d.io.read_point_cloud(f\"../dataset/{dropdown.value}/Depth_0001.ply\")"
   ],
   "id": "4b17e9cd4da06109",
   "outputs": [],
   "execution_count": 40
  },
  {
   "metadata": {
    "ExecuteTime": {
     "end_time": "2024-09-24T09:13:21.917327Z",
     "start_time": "2024-09-24T09:13:18.859932Z"
    }
   },
   "cell_type": "code",
   "source": [
    "pcd1.paint_uniform_color([1, 0, 0])\n",
    "pcd2.paint_uniform_color([0, 0, 1])\n",
    "o3d.visualization.draw_geometries([pcd1, pcd2], window_name=\"Original Point Clouds\")"
   ],
   "id": "b4d4a398d85daa64",
   "outputs": [],
   "execution_count": 41
  },
  {
   "metadata": {
    "ExecuteTime": {
     "end_time": "2024-09-24T08:56:48.203083Z",
     "start_time": "2024-09-24T08:56:46.264139Z"
    }
   },
   "cell_type": "code",
   "source": [
    "kappa1 = collect_all_correspondences(pcd1, pcd2)\n",
    "print(f\"Found {len(kappa1)} matches\")"
   ],
   "id": "af26db607e254719",
   "outputs": [
    {
     "name": "stdout",
     "output_type": "stream",
     "text": [
      "found 22238 matches\n"
     ]
    }
   ],
   "execution_count": 30
  },
  {
   "metadata": {
    "ExecuteTime": {
     "end_time": "2024-09-24T08:50:44.383590Z",
     "start_time": "2024-09-24T08:50:34.456611Z"
    }
   },
   "cell_type": "code",
   "source": "visualize_correspondences(pcd1, pcd2, kappa1, \"All Correspondences\")",
   "id": "d308d4a1d31a1f94",
   "outputs": [
    {
     "name": "stdout",
     "output_type": "stream",
     "text": [
      "[Open3D WARNING] GLFW Error: WGL: Failed to make context current: The requested transformation operation is not supported. \n"
     ]
    }
   ],
   "execution_count": 21
  },
  {
   "metadata": {
    "ExecuteTime": {
     "end_time": "2024-09-24T08:56:49.934383Z",
     "start_time": "2024-09-24T08:56:49.915794Z"
    }
   },
   "cell_type": "code",
   "source": [
    "kappa2 = reciprocity_test(kappa1)\n",
    "print(f\"There are {len(kappa2)} after the reciprocity test\")"
   ],
   "id": "9403eb54b78e2f8f",
   "outputs": [
    {
     "name": "stdout",
     "output_type": "stream",
     "text": [
      "There are 2083 after the reciprocity test\n"
     ]
    }
   ],
   "execution_count": 31
  },
  {
   "metadata": {
    "ExecuteTime": {
     "end_time": "2024-09-24T08:56:59.343864Z",
     "start_time": "2024-09-24T08:56:50.565463Z"
    }
   },
   "cell_type": "code",
   "source": "visualize_correspondences(pcd1, pcd2, kappa2, \"After Reciprocity Test\")",
   "id": "ed684414b565afb1",
   "outputs": [
    {
     "name": "stdout",
     "output_type": "stream",
     "text": [
      "[Open3D WARNING] GLFW Error: WGL: Failed to make context current: The handle is invalid. \n",
      "[Open3D WARNING] GLFW Error: WGL: Failed to make context current: The requested transformation operation is not supported. \n"
     ]
    }
   ],
   "execution_count": 32
  },
  {
   "metadata": {
    "ExecuteTime": {
     "end_time": "2024-09-24T08:58:01.220918Z",
     "start_time": "2024-09-24T08:58:01.124053Z"
    }
   },
   "cell_type": "code",
   "source": [
    "kappa3 = tuple_test(kappa2, pcd1, pcd2)\n",
    "print(f\"There are {len(kappa3)} after the tuple test\")"
   ],
   "id": "548100039c8680e3",
   "outputs": [
    {
     "name": "stdout",
     "output_type": "stream",
     "text": [
      "There are 992 after the tuple test\n"
     ]
    }
   ],
   "execution_count": 35
  },
  {
   "metadata": {
    "ExecuteTime": {
     "end_time": "2024-09-24T08:58:11.307506Z",
     "start_time": "2024-09-24T08:58:01.664219Z"
    }
   },
   "cell_type": "code",
   "source": "visualize_correspondences(pcd1, pcd2, kappa3, \"After Tuple Test\")",
   "id": "10cdb84dfc99d43f",
   "outputs": [
    {
     "name": "stdout",
     "output_type": "stream",
     "text": [
      "[Open3D WARNING] GLFW Error: WGL: Failed to make context current: The requested transformation operation is not supported. \n"
     ]
    }
   ],
   "execution_count": 36
  },
  {
   "metadata": {},
   "cell_type": "code",
   "outputs": [],
   "execution_count": null,
   "source": "",
   "id": "1f795497ffd3d561"
  }
 ],
 "metadata": {
  "kernelspec": {
   "display_name": "Python 3",
   "language": "python",
   "name": "python3"
  },
  "language_info": {
   "codemirror_mode": {
    "name": "ipython",
    "version": 2
   },
   "file_extension": ".py",
   "mimetype": "text/x-python",
   "name": "python",
   "nbconvert_exporter": "python",
   "pygments_lexer": "ipython2",
   "version": "2.7.6"
  }
 },
 "nbformat": 4,
 "nbformat_minor": 5
}
